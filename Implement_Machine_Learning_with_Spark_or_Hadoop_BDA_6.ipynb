{
  "nbformat": 4,
  "nbformat_minor": 0,
  "metadata": {
    "colab": {
      "provenance": [],
      "include_colab_link": true
    },
    "kernelspec": {
      "name": "python3",
      "display_name": "Python 3"
    },
    "language_info": {
      "name": "python"
    }
  },
  "cells": [
    {
      "cell_type": "markdown",
      "metadata": {
        "id": "view-in-github",
        "colab_type": "text"
      },
      "source": [
        "<a href=\"https://colab.research.google.com/github/KaustubhSN12/Implement-Machine-Learning-with-Spark-or-Hadoop_BDA_LR/blob/main/Implement_Machine_Learning_with_Spark_or_Hadoop_BDA_6.ipynb\" target=\"_parent\"><img src=\"https://colab.research.google.com/assets/colab-badge.svg\" alt=\"Open In Colab\"/></a>"
      ]
    },
    {
      "cell_type": "markdown",
      "source": [
        "#PySpark Linear Regression"
      ],
      "metadata": {
        "id": "vYqT1DGQE2A4"
      }
    },
    {
      "cell_type": "code",
      "execution_count": 2,
      "metadata": {
        "id": "Ap_pv_RmABIz"
      },
      "outputs": [],
      "source": [
        "#!pip install pyspark"
      ]
    },
    {
      "cell_type": "code",
      "source": [
        "from google.colab import drive\n",
        "drive.mount('/content/drive')"
      ],
      "metadata": {
        "colab": {
          "base_uri": "https://localhost:8080/"
        },
        "id": "Y7VwR05S-008",
        "outputId": "e462951a-d86a-4f62-e075-70ae69268655"
      },
      "execution_count": 3,
      "outputs": [
        {
          "output_type": "stream",
          "name": "stdout",
          "text": [
            "Drive already mounted at /content/drive; to attempt to forcibly remount, call drive.mount(\"/content/drive\", force_remount=True).\n"
          ]
        }
      ]
    },
    {
      "cell_type": "code",
      "source": [
        "from pyspark.sql import SparkSession\n",
        "spark = SparkSession.builder.master(\"local\").appName(\"linear_regression_model\").getOrCreate()"
      ],
      "metadata": {
        "id": "KGHBqjhTAbTE"
      },
      "execution_count": 4,
      "outputs": []
    },
    {
      "cell_type": "code",
      "source": [
        "real_estate = spark.read.option(\"inferSchema\", \"true\").csv(\"/content/drive/MyDrive/Colab Notebooks/BDA_Practical_sem3/Pyspark_Linear_Regression-main/Real estate.csv\",header=True)"
      ],
      "metadata": {
        "id": "rQ4OfEa-Azjx"
      },
      "execution_count": 5,
      "outputs": []
    },
    {
      "cell_type": "code",
      "source": [
        "real_estate.printSchema()"
      ],
      "metadata": {
        "colab": {
          "base_uri": "https://localhost:8080/"
        },
        "id": "nehRe7HtA5hq",
        "outputId": "5e39bc18-17cb-4716-93a6-0333ff1d94b5"
      },
      "execution_count": 6,
      "outputs": [
        {
          "output_type": "stream",
          "name": "stdout",
          "text": [
            "root\n",
            " |-- No: integer (nullable = true)\n",
            " |-- X1 transaction date: double (nullable = true)\n",
            " |-- X2 house age: double (nullable = true)\n",
            " |-- X3 distance to the nearest MRT station: double (nullable = true)\n",
            " |-- X4 number of convenience stores: integer (nullable = true)\n",
            " |-- X5 latitude: double (nullable = true)\n",
            " |-- X6 longitude: double (nullable = true)\n",
            " |-- Y house price of unit area: double (nullable = true)\n",
            "\n"
          ]
        }
      ]
    },
    {
      "cell_type": "code",
      "source": [
        "real_estate.show(2)"
      ],
      "metadata": {
        "colab": {
          "base_uri": "https://localhost:8080/"
        },
        "id": "IXxBuROEA_Ve",
        "outputId": "f6b2a718-d59c-46cb-f63a-b3f2114d717d"
      },
      "execution_count": 7,
      "outputs": [
        {
          "output_type": "stream",
          "name": "stdout",
          "text": [
            "+---+-------------------+------------+--------------------------------------+-------------------------------+-----------+------------+--------------------------+\n",
            "| No|X1 transaction date|X2 house age|X3 distance to the nearest MRT station|X4 number of convenience stores|X5 latitude|X6 longitude|Y house price of unit area|\n",
            "+---+-------------------+------------+--------------------------------------+-------------------------------+-----------+------------+--------------------------+\n",
            "|  1|           2012.917|        32.0|                              84.87882|                             10|   24.98298|   121.54024|                      37.9|\n",
            "|  2|           2012.917|        19.5|                              306.5947|                              9|   24.98034|   121.53951|                      42.2|\n",
            "+---+-------------------+------------+--------------------------------------+-------------------------------+-----------+------------+--------------------------+\n",
            "only showing top 2 rows\n",
            "\n"
          ]
        }
      ]
    },
    {
      "cell_type": "code",
      "source": [
        "real_estate.describe().show()"
      ],
      "metadata": {
        "colab": {
          "base_uri": "https://localhost:8080/"
        },
        "id": "-bULLAk5BDdD",
        "outputId": "0ab8a4d6-5d10-4f78-d04e-c38c64551b5f"
      },
      "execution_count": 8,
      "outputs": [
        {
          "output_type": "stream",
          "name": "stdout",
          "text": [
            "+-------+-----------------+-------------------+------------------+--------------------------------------+-------------------------------+--------------------+--------------------+--------------------------+\n",
            "|summary|               No|X1 transaction date|      X2 house age|X3 distance to the nearest MRT station|X4 number of convenience stores|         X5 latitude|        X6 longitude|Y house price of unit area|\n",
            "+-------+-----------------+-------------------+------------------+--------------------------------------+-------------------------------+--------------------+--------------------+--------------------------+\n",
            "|  count|              414|                414|               414|                                   414|                            414|                 414|                 414|                       414|\n",
            "|   mean|            207.5| 2013.1489710144933| 17.71256038647343|                    1083.8856889130436|              4.094202898550725|  24.969030072463745|  121.53336108695667|         37.98019323671498|\n",
            "| stddev|119.6557562342907| 0.2819672402629999|11.392484533242524|                     1262.109595407851|             2.9455618056636177|0.012410196590450208|0.015347183004592374|        13.606487697735316|\n",
            "|    min|                1|           2012.667|               0.0|                              23.38284|                              0|            24.93207|           121.47353|                       7.6|\n",
            "|    max|              414|           2013.583|              43.8|                              6488.021|                             10|            25.01459|           121.56627|                     117.5|\n",
            "+-------+-----------------+-------------------+------------------+--------------------------------------+-------------------------------+--------------------+--------------------+--------------------------+\n",
            "\n"
          ]
        }
      ]
    },
    {
      "cell_type": "code",
      "source": [
        "# VectorAssembler to transform data into feature columns\n",
        "\n",
        "from pyspark.ml.feature import VectorAssembler\n",
        "\n",
        "assembler = VectorAssembler(inputCols=[\n",
        " 'X1 transaction date',\n",
        " 'X2 house age',\n",
        " 'X3 distance to the nearest MRT station',\n",
        " 'X4 number of convenience stores',\n",
        " 'X5 latitude',\n",
        " 'X6 longitude'],\n",
        " outputCol='features')"
      ],
      "metadata": {
        "id": "33GRv040BGXS"
      },
      "execution_count": 9,
      "outputs": []
    },
    {
      "cell_type": "code",
      "source": [
        "data_set = assembler.transform(real_estate)\n",
        "data_set.select(['features','Y house price of unit area']).show(2)"
      ],
      "metadata": {
        "colab": {
          "base_uri": "https://localhost:8080/"
        },
        "id": "Lx_Xr5xXBT0m",
        "outputId": "3075f6ec-1f68-453c-ef59-2fca5684326e"
      },
      "execution_count": 10,
      "outputs": [
        {
          "output_type": "stream",
          "name": "stdout",
          "text": [
            "+--------------------+--------------------------+\n",
            "|            features|Y house price of unit area|\n",
            "+--------------------+--------------------------+\n",
            "|[2012.917,32.0,84...|                      37.9|\n",
            "|[2012.917,19.5,30...|                      42.2|\n",
            "+--------------------+--------------------------+\n",
            "only showing top 2 rows\n",
            "\n"
          ]
        }
      ]
    },
    {
      "cell_type": "code",
      "source": [
        "# Split into Train and Test set\n",
        "train_data,test_data = data_set.randomSplit([0.7,0.3])"
      ],
      "metadata": {
        "id": "ddYKF4fYBWWq"
      },
      "execution_count": 11,
      "outputs": []
    },
    {
      "cell_type": "code",
      "source": [
        "train_data.show(truncate=False)"
      ],
      "metadata": {
        "colab": {
          "base_uri": "https://localhost:8080/"
        },
        "id": "oA9ulK4mBZvO",
        "outputId": "fa9cfbc0-7dd6-49bf-d80d-92d3860444be"
      },
      "execution_count": 12,
      "outputs": [
        {
          "output_type": "stream",
          "name": "stdout",
          "text": [
            "+---+-------------------+------------+--------------------------------------+-------------------------------+-----------+------------+--------------------------+------------------------------------------------+\n",
            "|No |X1 transaction date|X2 house age|X3 distance to the nearest MRT station|X4 number of convenience stores|X5 latitude|X6 longitude|Y house price of unit area|features                                        |\n",
            "+---+-------------------+------------+--------------------------------------+-------------------------------+-----------+------------+--------------------------+------------------------------------------------+\n",
            "|1  |2012.917           |32.0        |84.87882                              |10                             |24.98298   |121.54024   |37.9                      |[2012.917,32.0,84.87882,10.0,24.98298,121.54024]|\n",
            "|2  |2012.917           |19.5        |306.5947                              |9                              |24.98034   |121.53951   |42.2                      |[2012.917,19.5,306.5947,9.0,24.98034,121.53951] |\n",
            "|3  |2013.583           |13.3        |561.9845                              |5                              |24.98746   |121.54391   |47.3                      |[2013.583,13.3,561.9845,5.0,24.98746,121.54391] |\n",
            "|4  |2013.5             |13.3        |561.9845                              |5                              |24.98746   |121.54391   |54.8                      |[2013.5,13.3,561.9845,5.0,24.98746,121.54391]   |\n",
            "|5  |2012.833           |5.0         |390.5684                              |5                              |24.97937   |121.54245   |43.1                      |[2012.833,5.0,390.5684,5.0,24.97937,121.54245]  |\n",
            "|7  |2012.667           |34.5        |623.4731                              |7                              |24.97933   |121.53642   |40.3                      |[2012.667,34.5,623.4731,7.0,24.97933,121.53642] |\n",
            "|8  |2013.417           |20.3        |287.6025                              |6                              |24.98042   |121.54228   |46.7                      |[2013.417,20.3,287.6025,6.0,24.98042,121.54228] |\n",
            "|10 |2013.417           |17.9        |1783.18                               |3                              |24.96731   |121.51486   |22.1                      |[2013.417,17.9,1783.18,3.0,24.96731,121.51486]  |\n",
            "|11 |2013.083           |34.8        |405.2134                              |1                              |24.97349   |121.53372   |41.4                      |[2013.083,34.8,405.2134,1.0,24.97349,121.53372] |\n",
            "|12 |2013.333           |6.3         |90.45606                              |9                              |24.97433   |121.5431    |58.1                      |[2013.333,6.3,90.45606,9.0,24.97433,121.5431]   |\n",
            "|13 |2012.917           |13.0        |492.2313                              |5                              |24.96515   |121.53737   |39.3                      |[2012.917,13.0,492.2313,5.0,24.96515,121.53737] |\n",
            "|14 |2012.667           |20.4        |2469.645                              |4                              |24.96108   |121.51046   |23.8                      |[2012.667,20.4,2469.645,4.0,24.96108,121.51046] |\n",
            "|15 |2013.5             |13.2        |1164.838                              |4                              |24.99156   |121.53406   |34.3                      |[2013.5,13.2,1164.838,4.0,24.99156,121.53406]   |\n",
            "|19 |2013.417           |16.9        |368.1363                              |8                              |24.9675    |121.54451   |42.3                      |[2013.417,16.9,368.1363,8.0,24.9675,121.54451]  |\n",
            "|20 |2012.667           |1.5         |23.38284                              |7                              |24.96772   |121.54102   |47.7                      |[2012.667,1.5,23.38284,7.0,24.96772,121.54102]  |\n",
            "|21 |2013.417           |4.5         |2275.877                              |3                              |24.96314   |121.51151   |29.3                      |[2013.417,4.5,2275.877,3.0,24.96314,121.51151]  |\n",
            "|22 |2013.417           |10.5        |279.1726                              |7                              |24.97528   |121.54541   |51.6                      |[2013.417,10.5,279.1726,7.0,24.97528,121.54541] |\n",
            "|23 |2012.917           |14.7        |1360.139                              |1                              |24.95204   |121.54842   |24.6                      |[2012.917,14.7,1360.139,1.0,24.95204,121.54842] |\n",
            "|24 |2013.083           |10.1        |279.1726                              |7                              |24.97528   |121.54541   |47.9                      |[2013.083,10.1,279.1726,7.0,24.97528,121.54541] |\n",
            "|25 |2013.0             |39.6        |480.6977                              |4                              |24.97353   |121.53885   |38.8                      |[2013.0,39.6,480.6977,4.0,24.97353,121.53885]   |\n",
            "+---+-------------------+------------+--------------------------------------+-------------------------------+-----------+------------+--------------------------+------------------------------------------------+\n",
            "only showing top 20 rows\n",
            "\n"
          ]
        }
      ]
    },
    {
      "cell_type": "code",
      "source": [
        "test_data.show(truncate=False)"
      ],
      "metadata": {
        "colab": {
          "base_uri": "https://localhost:8080/"
        },
        "id": "KvP8wt8hBqep",
        "outputId": "1ce0c67b-c2fb-4c95-9288-b23b9038e217"
      },
      "execution_count": 13,
      "outputs": [
        {
          "output_type": "stream",
          "name": "stdout",
          "text": [
            "+---+-------------------+------------+--------------------------------------+-------------------------------+-----------+------------+--------------------------+-----------------------------------------------+\n",
            "|No |X1 transaction date|X2 house age|X3 distance to the nearest MRT station|X4 number of convenience stores|X5 latitude|X6 longitude|Y house price of unit area|features                                       |\n",
            "+---+-------------------+------------+--------------------------------------+-------------------------------+-----------+------------+--------------------------+-----------------------------------------------+\n",
            "|6  |2012.667           |7.1         |2175.03                               |3                              |24.96305   |121.51254   |32.1                      |[2012.667,7.1,2175.03,3.0,24.96305,121.51254]  |\n",
            "|9  |2013.5             |31.7        |5512.038                              |1                              |24.95095   |121.48458   |18.8                      |[2013.5,31.7,5512.038,1.0,24.95095,121.48458]  |\n",
            "|16 |2013.583           |35.7        |579.2083                              |2                              |24.9824    |121.54619   |50.5                      |[2013.583,35.7,579.2083,2.0,24.9824,121.54619] |\n",
            "|17 |2013.25            |0.0         |292.9978                              |6                              |24.97744   |121.54458   |70.1                      |[2013.25,0.0,292.9978,6.0,24.97744,121.54458]  |\n",
            "|18 |2012.75            |17.7        |350.8515                              |1                              |24.97544   |121.53119   |37.4                      |[2012.75,17.7,350.8515,1.0,24.97544,121.53119] |\n",
            "|35 |2012.75            |15.4        |205.367                               |7                              |24.98419   |121.54243   |55.1                      |[2012.75,15.4,205.367,7.0,24.98419,121.54243]  |\n",
            "|39 |2012.667           |3.1         |577.9615                              |6                              |24.97201   |121.54722   |47.7                      |[2012.667,3.1,577.9615,6.0,24.97201,121.54722] |\n",
            "|40 |2013.167           |16.2        |289.3248                              |5                              |24.98203   |121.54348   |46.2                      |[2013.167,16.2,289.3248,5.0,24.98203,121.54348]|\n",
            "|41 |2013.0             |13.6        |4082.015                              |0                              |24.94155   |121.50381   |15.9                      |[2013.0,13.6,4082.015,0.0,24.94155,121.50381]  |\n",
            "|42 |2013.5             |16.8        |4066.587                              |0                              |24.94297   |121.50342   |18.2                      |[2013.5,16.8,4066.587,0.0,24.94297,121.50342]  |\n",
            "|45 |2013.583           |2.7         |533.4762                              |4                              |24.97445   |121.54765   |53.9                      |[2013.583,2.7,533.4762,4.0,24.97445,121.54765] |\n",
            "|53 |2013.583           |32.1        |1438.579                              |3                              |24.97419   |121.5175    |27.0                      |[2013.583,32.1,1438.579,3.0,24.97419,121.5175] |\n",
            "|54 |2013.083           |13.3        |492.2313                              |5                              |24.96515   |121.53737   |38.9                      |[2013.083,13.3,492.2313,5.0,24.96515,121.53737]|\n",
            "|55 |2013.083           |16.1        |289.3248                              |5                              |24.98203   |121.54348   |51.7                      |[2013.083,16.1,289.3248,5.0,24.98203,121.54348]|\n",
            "|61 |2013.417           |11.0        |1931.207                              |2                              |24.96365   |121.51471   |21.3                      |[2013.417,11.0,1931.207,2.0,24.96365,121.51471]|\n",
            "|65 |2013.333           |17.5        |995.7554                              |0                              |24.96305   |121.54915   |25.3                      |[2013.333,17.5,995.7554,0.0,24.96305,121.54915]|\n",
            "|66 |2013.417           |40.1        |123.7429                              |8                              |24.97635   |121.54329   |44.3                      |[2013.417,40.1,123.7429,8.0,24.97635,121.54329]|\n",
            "|69 |2013.417           |30.4        |464.223                               |6                              |24.97964   |121.53805   |36.2                      |[2013.417,30.4,464.223,6.0,24.97964,121.53805] |\n",
            "|72 |2013.083           |35.5        |640.7391                              |3                              |24.97563   |121.53715   |40.8                      |[2013.083,35.5,640.7391,3.0,24.97563,121.53715]|\n",
            "|73 |2013.583           |32.5        |424.5442                              |8                              |24.97587   |121.53913   |36.3                      |[2013.583,32.5,424.5442,8.0,24.97587,121.53913]|\n",
            "+---+-------------------+------------+--------------------------------------+-------------------------------+-----------+------------+--------------------------+-----------------------------------------------+\n",
            "only showing top 20 rows\n",
            "\n"
          ]
        }
      ]
    },
    {
      "cell_type": "code",
      "source": [
        "#Train your model (Fit your model with train data)\n",
        "\n",
        "from pyspark.ml.regression import LinearRegression\n",
        "\n",
        "lr = LinearRegression(labelCol='Y house price of unit area')\n",
        "lrModel = lr.fit(train_data)"
      ],
      "metadata": {
        "id": "RDDF5wY_Bz3R"
      },
      "execution_count": 14,
      "outputs": []
    },
    {
      "cell_type": "code",
      "source": [
        "# Perform descriptive analysis with correlation\n",
        "\n",
        "test_stats = lrModel.evaluate(test_data)\n",
        "print(f\"RMSE: {test_stats.rootMeanSquaredError}\")\n",
        "print(f\"R2: {test_stats.r2}\")\n",
        "print(f\"R2: {test_stats.meanSquaredError}\")"
      ],
      "metadata": {
        "colab": {
          "base_uri": "https://localhost:8080/"
        },
        "id": "gH2o7anwB6JQ",
        "outputId": "0f907ecb-cc5f-4c64-9ee5-637397714c08"
      },
      "execution_count": 15,
      "outputs": [
        {
          "output_type": "stream",
          "name": "stdout",
          "text": [
            "RMSE: 9.187496158547857\n",
            "R2: 0.5569720807861372\n",
            "R2: 84.41008566333163\n"
          ]
        }
      ]
    },
    {
      "cell_type": "code",
      "source": [],
      "metadata": {
        "id": "G5c388jZCKSB"
      },
      "execution_count": 15,
      "outputs": []
    }
  ]
}